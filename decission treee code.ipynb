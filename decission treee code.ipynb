{
 "cells": [
  {
   "cell_type": "code",
   "execution_count": 2,
   "metadata": {},
   "outputs": [
    {
     "name": "stdout",
     "output_type": "stream",
     "text": [
      "Requirement already satisfied: torch in c:\\users\\siddh\\appdata\\local\\programs\\python\\python311\\lib\\site-packages (2.1.0)\n",
      "Requirement already satisfied: transformers in c:\\users\\siddh\\appdata\\local\\programs\\python\\python311\\lib\\site-packages (4.25.1)\n",
      "Requirement already satisfied: evaluate in c:\\users\\siddh\\appdata\\local\\programs\\python\\python311\\lib\\site-packages (0.4.3)\n",
      "Requirement already satisfied: pandas in c:\\users\\siddh\\appdata\\local\\programs\\python\\python311\\lib\\site-packages (2.0.3)\n",
      "Requirement already satisfied: filelock in c:\\users\\siddh\\appdata\\local\\programs\\python\\python311\\lib\\site-packages (from torch) (3.15.4)\n",
      "Requirement already satisfied: typing-extensions in c:\\users\\siddh\\appdata\\local\\programs\\python\\python311\\lib\\site-packages (from torch) (4.7.1)\n",
      "Requirement already satisfied: sympy in c:\\users\\siddh\\appdata\\local\\programs\\python\\python311\\lib\\site-packages (from torch) (1.12)\n",
      "Requirement already satisfied: networkx in c:\\users\\siddh\\appdata\\local\\programs\\python\\python311\\lib\\site-packages (from torch) (3.2.1)\n",
      "Requirement already satisfied: jinja2 in c:\\users\\siddh\\appdata\\local\\programs\\python\\python311\\lib\\site-packages (from torch) (3.1.2)\n",
      "Requirement already satisfied: fsspec in c:\\users\\siddh\\appdata\\local\\programs\\python\\python311\\lib\\site-packages (from torch) (2023.10.0)\n",
      "Requirement already satisfied: huggingface-hub<1.0,>=0.10.0 in c:\\users\\siddh\\appdata\\local\\programs\\python\\python311\\lib\\site-packages (from transformers) (0.24.5)\n",
      "Requirement already satisfied: numpy>=1.17 in c:\\users\\siddh\\appdata\\local\\programs\\python\\python311\\lib\\site-packages (from transformers) (1.25.0)\n",
      "Requirement already satisfied: packaging>=20.0 in c:\\users\\siddh\\appdata\\local\\programs\\python\\python311\\lib\\site-packages (from transformers) (23.1)\n",
      "Requirement already satisfied: pyyaml>=5.1 in c:\\users\\siddh\\appdata\\local\\programs\\python\\python311\\lib\\site-packages (from transformers) (6.0)\n",
      "Requirement already satisfied: regex!=2019.12.17 in c:\\users\\siddh\\appdata\\local\\programs\\python\\python311\\lib\\site-packages (from transformers) (2023.10.3)\n",
      "Requirement already satisfied: requests in c:\\users\\siddh\\appdata\\local\\programs\\python\\python311\\lib\\site-packages (from transformers) (2.31.0)\n",
      "Requirement already satisfied: tokenizers!=0.11.3,<0.14,>=0.11.1 in c:\\users\\siddh\\appdata\\local\\programs\\python\\python311\\lib\\site-packages (from transformers) (0.13.3)\n",
      "Requirement already satisfied: tqdm>=4.27 in c:\\users\\siddh\\appdata\\local\\programs\\python\\python311\\lib\\site-packages (from transformers) (4.66.4)\n",
      "Requirement already satisfied: datasets>=2.0.0 in c:\\users\\siddh\\appdata\\local\\programs\\python\\python311\\lib\\site-packages (from evaluate) (2.14.6)\n",
      "Requirement already satisfied: dill in c:\\users\\siddh\\appdata\\local\\programs\\python\\python311\\lib\\site-packages (from evaluate) (0.3.7)\n",
      "Requirement already satisfied: xxhash in c:\\users\\siddh\\appdata\\local\\programs\\python\\python311\\lib\\site-packages (from evaluate) (3.4.1)\n",
      "Requirement already satisfied: multiprocess in c:\\users\\siddh\\appdata\\local\\programs\\python\\python311\\lib\\site-packages (from evaluate) (0.70.15)\n",
      "Requirement already satisfied: python-dateutil>=2.8.2 in c:\\users\\siddh\\appdata\\local\\programs\\python\\python311\\lib\\site-packages (from pandas) (2.8.2)\n",
      "Requirement already satisfied: pytz>=2020.1 in c:\\users\\siddh\\appdata\\local\\programs\\python\\python311\\lib\\site-packages (from pandas) (2023.3)\n",
      "Requirement already satisfied: tzdata>=2022.1 in c:\\users\\siddh\\appdata\\local\\programs\\python\\python311\\lib\\site-packages (from pandas) (2023.3)\n",
      "Requirement already satisfied: pyarrow>=8.0.0 in c:\\users\\siddh\\appdata\\local\\programs\\python\\python311\\lib\\site-packages (from datasets>=2.0.0->evaluate) (13.0.0)\n",
      "Requirement already satisfied: aiohttp in c:\\users\\siddh\\appdata\\local\\programs\\python\\python311\\lib\\site-packages (from datasets>=2.0.0->evaluate) (3.10.0)\n",
      "Requirement already satisfied: six>=1.5 in c:\\users\\siddh\\appdata\\local\\programs\\python\\python311\\lib\\site-packages (from python-dateutil>=2.8.2->pandas) (1.16.0)\n",
      "Requirement already satisfied: charset-normalizer<4,>=2 in c:\\users\\siddh\\appdata\\local\\programs\\python\\python311\\lib\\site-packages (from requests->transformers) (3.2.0)\n",
      "Requirement already satisfied: idna<4,>=2.5 in c:\\users\\siddh\\appdata\\local\\programs\\python\\python311\\lib\\site-packages (from requests->transformers) (3.4)\n",
      "Requirement already satisfied: urllib3<3,>=1.21.1 in c:\\users\\siddh\\appdata\\local\\programs\\python\\python311\\lib\\site-packages (from requests->transformers) (2.0.3)\n",
      "Requirement already satisfied: certifi>=2017.4.17 in c:\\users\\siddh\\appdata\\local\\programs\\python\\python311\\lib\\site-packages (from requests->transformers) (2023.5.7)\n",
      "Requirement already satisfied: colorama in c:\\users\\siddh\\appdata\\local\\programs\\python\\python311\\lib\\site-packages (from tqdm>=4.27->transformers) (0.4.6)\n",
      "Requirement already satisfied: MarkupSafe>=2.0 in c:\\users\\siddh\\appdata\\local\\programs\\python\\python311\\lib\\site-packages (from jinja2->torch) (2.1.3)\n",
      "Requirement already satisfied: mpmath>=0.19 in c:\\users\\siddh\\appdata\\local\\programs\\python\\python311\\lib\\site-packages (from sympy->torch) (1.3.0)\n",
      "Requirement already satisfied: aiohappyeyeballs>=2.3.0 in c:\\users\\siddh\\appdata\\local\\programs\\python\\python311\\lib\\site-packages (from aiohttp->datasets>=2.0.0->evaluate) (2.3.2)\n",
      "Requirement already satisfied: aiosignal>=1.1.2 in c:\\users\\siddh\\appdata\\local\\programs\\python\\python311\\lib\\site-packages (from aiohttp->datasets>=2.0.0->evaluate) (1.3.1)\n",
      "Requirement already satisfied: attrs>=17.3.0 in c:\\users\\siddh\\appdata\\local\\programs\\python\\python311\\lib\\site-packages (from aiohttp->datasets>=2.0.0->evaluate) (23.1.0)\n",
      "Requirement already satisfied: frozenlist>=1.1.1 in c:\\users\\siddh\\appdata\\local\\programs\\python\\python311\\lib\\site-packages (from aiohttp->datasets>=2.0.0->evaluate) (1.4.0)\n",
      "Requirement already satisfied: multidict<7.0,>=4.5 in c:\\users\\siddh\\appdata\\local\\programs\\python\\python311\\lib\\site-packages (from aiohttp->datasets>=2.0.0->evaluate) (6.0.4)\n",
      "Requirement already satisfied: yarl<2.0,>=1.0 in c:\\users\\siddh\\appdata\\local\\programs\\python\\python311\\lib\\site-packages (from aiohttp->datasets>=2.0.0->evaluate) (1.9.2)\n",
      "Note: you may need to restart the kernel to use updated packages.\n"
     ]
    },
    {
     "name": "stderr",
     "output_type": "stream",
     "text": [
      "\n",
      "[notice] A new release of pip is available: 24.3.1 -> 25.0.1\n",
      "[notice] To update, run: python.exe -m pip install --upgrade pip\n"
     ]
    }
   ],
   "source": [
    "pip install torch transformers evaluate pandas\n"
   ]
  },
  {
   "cell_type": "code",
   "execution_count": 6,
   "metadata": {},
   "outputs": [
    {
     "name": "stdout",
     "output_type": "stream",
     "text": [
      "File 'tokenizer' not found in C:\\Users\\siddh\\Downloads\\Master Thesis\\Chatbot 2\\fine_tuned_model\n",
      "File 'merges' not found in C:\\Users\\siddh\\Downloads\\Master Thesis\\Chatbot 2\\fine_tuned_model\n",
      "File 'vocab' not found in C:\\Users\\siddh\\Downloads\\Master Thesis\\Chatbot 2\\fine_tuned_model\n",
      "File 'config' not found in C:\\Users\\siddh\\Downloads\\Master Thesis\\Chatbot 2\\fine_tuned_model\n",
      "File 'special_tokens_map' not found in C:\\Users\\siddh\\Downloads\\Master Thesis\\Chatbot 2\\fine_tuned_model\n",
      "File 'tokenizer_config' not found in C:\\Users\\siddh\\Downloads\\Master Thesis\\Chatbot 2\\fine_tuned_model\n",
      "File 'generation_config' not found in C:\\Users\\siddh\\Downloads\\Master Thesis\\Chatbot 2\\fine_tuned_model\n"
     ]
    }
   ],
   "source": [
    "import os\n",
    "\n",
    "model_dir = r\"C:\\Users\\siddh\\Downloads\\Master Thesis\\Chatbot 2\\fine_tuned_model\"\n",
    "\n",
    "# Map from old filename to the new filename\n",
    "rename_map = {\n",
    "    \"tokenizer\": \"tokenizer.json\",\n",
    "    \"merges\": \"merges.txt\",\n",
    "    \"vocab\": \"vocab.json\",\n",
    "    \"config\": \"config.json\",\n",
    "    \"special_tokens_map\": \"special_tokens_map.json\",\n",
    "    \"tokenizer_config\": \"tokenizer_config.json\",\n",
    "    \"generation_config\": \"generation_config.json\"\n",
    "}\n",
    "\n",
    "for old_name, new_name in rename_map.items():\n",
    "    old_path = os.path.join(model_dir, old_name)\n",
    "    new_path = os.path.join(model_dir, new_name)\n",
    "    if os.path.exists(old_path):\n",
    "        os.rename(old_path, new_path)\n",
    "        print(f\"Renamed '{old_name}' to '{new_name}'\")\n",
    "    else:\n",
    "        print(f\"File '{old_name}' not found in {model_dir}\")\n"
   ]
  },
  {
   "cell_type": "code",
   "execution_count": 3,
   "metadata": {},
   "outputs": [
    {
     "name": "stdout",
     "output_type": "stream",
     "text": [
      "Requirement already satisfied: torch in c:\\users\\siddh\\appdata\\local\\programs\\python\\python311\\lib\\site-packages (2.1.0)\n",
      "Requirement already satisfied: transformers in c:\\users\\siddh\\appdata\\local\\programs\\python\\python311\\lib\\site-packages (4.25.1)\n",
      "Requirement already satisfied: pandas in c:\\users\\siddh\\appdata\\local\\programs\\python\\python311\\lib\\site-packages (2.0.3)\n",
      "Requirement already satisfied: filelock in c:\\users\\siddh\\appdata\\local\\programs\\python\\python311\\lib\\site-packages (from torch) (3.15.4)\n",
      "Requirement already satisfied: typing-extensions in c:\\users\\siddh\\appdata\\local\\programs\\python\\python311\\lib\\site-packages (from torch) (4.7.1)\n",
      "Requirement already satisfied: sympy in c:\\users\\siddh\\appdata\\local\\programs\\python\\python311\\lib\\site-packages (from torch) (1.12)\n",
      "Requirement already satisfied: networkx in c:\\users\\siddh\\appdata\\local\\programs\\python\\python311\\lib\\site-packages (from torch) (3.2.1)\n",
      "Requirement already satisfied: jinja2 in c:\\users\\siddh\\appdata\\local\\programs\\python\\python311\\lib\\site-packages (from torch) (3.1.2)\n",
      "Requirement already satisfied: fsspec in c:\\users\\siddh\\appdata\\local\\programs\\python\\python311\\lib\\site-packages (from torch) (2023.10.0)\n",
      "Requirement already satisfied: huggingface-hub<1.0,>=0.10.0 in c:\\users\\siddh\\appdata\\local\\programs\\python\\python311\\lib\\site-packages (from transformers) (0.24.5)\n",
      "Requirement already satisfied: numpy>=1.17 in c:\\users\\siddh\\appdata\\local\\programs\\python\\python311\\lib\\site-packages (from transformers) (1.25.0)\n",
      "Requirement already satisfied: packaging>=20.0 in c:\\users\\siddh\\appdata\\local\\programs\\python\\python311\\lib\\site-packages (from transformers) (23.1)\n",
      "Requirement already satisfied: pyyaml>=5.1 in c:\\users\\siddh\\appdata\\local\\programs\\python\\python311\\lib\\site-packages (from transformers) (6.0)\n",
      "Requirement already satisfied: regex!=2019.12.17 in c:\\users\\siddh\\appdata\\local\\programs\\python\\python311\\lib\\site-packages (from transformers) (2023.10.3)\n",
      "Requirement already satisfied: requests in c:\\users\\siddh\\appdata\\local\\programs\\python\\python311\\lib\\site-packages (from transformers) (2.31.0)\n",
      "Requirement already satisfied: tokenizers!=0.11.3,<0.14,>=0.11.1 in c:\\users\\siddh\\appdata\\local\\programs\\python\\python311\\lib\\site-packages (from transformers) (0.13.3)\n",
      "Requirement already satisfied: tqdm>=4.27 in c:\\users\\siddh\\appdata\\local\\programs\\python\\python311\\lib\\site-packages (from transformers) (4.66.4)\n",
      "Requirement already satisfied: python-dateutil>=2.8.2 in c:\\users\\siddh\\appdata\\local\\programs\\python\\python311\\lib\\site-packages (from pandas) (2.8.2)\n",
      "Requirement already satisfied: pytz>=2020.1 in c:\\users\\siddh\\appdata\\local\\programs\\python\\python311\\lib\\site-packages (from pandas) (2023.3)\n",
      "Requirement already satisfied: tzdata>=2022.1 in c:\\users\\siddh\\appdata\\local\\programs\\python\\python311\\lib\\site-packages (from pandas) (2023.3)\n",
      "Requirement already satisfied: six>=1.5 in c:\\users\\siddh\\appdata\\local\\programs\\python\\python311\\lib\\site-packages (from python-dateutil>=2.8.2->pandas) (1.16.0)\n",
      "Requirement already satisfied: colorama in c:\\users\\siddh\\appdata\\local\\programs\\python\\python311\\lib\\site-packages (from tqdm>=4.27->transformers) (0.4.6)\n",
      "Requirement already satisfied: MarkupSafe>=2.0 in c:\\users\\siddh\\appdata\\local\\programs\\python\\python311\\lib\\site-packages (from jinja2->torch) (2.1.3)\n",
      "Requirement already satisfied: charset-normalizer<4,>=2 in c:\\users\\siddh\\appdata\\local\\programs\\python\\python311\\lib\\site-packages (from requests->transformers) (3.2.0)\n",
      "Requirement already satisfied: idna<4,>=2.5 in c:\\users\\siddh\\appdata\\local\\programs\\python\\python311\\lib\\site-packages (from requests->transformers) (3.4)\n",
      "Requirement already satisfied: urllib3<3,>=1.21.1 in c:\\users\\siddh\\appdata\\local\\programs\\python\\python311\\lib\\site-packages (from requests->transformers) (2.0.3)\n",
      "Requirement already satisfied: certifi>=2017.4.17 in c:\\users\\siddh\\appdata\\local\\programs\\python\\python311\\lib\\site-packages (from requests->transformers) (2023.5.7)\n",
      "Requirement already satisfied: mpmath>=0.19 in c:\\users\\siddh\\appdata\\local\\programs\\python\\python311\\lib\\site-packages (from sympy->torch) (1.3.0)\n",
      "Note: you may need to restart the kernel to use updated packages.\n"
     ]
    },
    {
     "name": "stderr",
     "output_type": "stream",
     "text": [
      "\n",
      "[notice] A new release of pip is available: 24.3.1 -> 25.0.1\n",
      "[notice] To update, run: python.exe -m pip install --upgrade pip\n"
     ]
    }
   ],
   "source": [
    "pip install torch transformers pandas\n"
   ]
  },
  {
   "cell_type": "code",
   "execution_count": 4,
   "metadata": {},
   "outputs": [
    {
     "name": "stdout",
     "output_type": "stream",
     "text": [
      "Files in model directory: ['config.json', 'generation_config.json', 'merges.txt', 'model.safetensors', 'special_tokens_map.json', 'tokenizer.json', 'tokenizer_config.json', 'vocab.json']\n"
     ]
    }
   ],
   "source": [
    "import os\n",
    "\n",
    "model_path = r\"C:\\Users\\siddh\\Downloads\\Master Thesis\\Chatbot 2\\fine_tuned_model\"\n",
    "print(\"Files in model directory:\", os.listdir(model_path))\n"
   ]
  },
  {
   "cell_type": "code",
   "execution_count": 7,
   "metadata": {},
   "outputs": [],
   "source": [
    "model_path = r\"C:\\Users\\siddh\\Downloads\\Master Thesis\\Chatbot 2\\fine_tuned_model\"\n",
    "tokenizer = AutoTokenizer.from_pretrained(model_path, local_files_only=True, use_fast=False)\n"
   ]
  },
  {
   "cell_type": "code",
   "execution_count": 8,
   "metadata": {},
   "outputs": [
    {
     "name": "stdout",
     "output_type": "stream",
     "text": [
      "PreTrainedTokenizer(name_or_path='C:\\Users\\siddh\\Downloads\\Master Thesis\\Chatbot 2\\fine_tuned_model', vocab_size=50257, model_max_len=1024, is_fast=False, padding_side='right', truncation_side='right', special_tokens={'bos_token': AddedToken(\"<|endoftext|>\", rstrip=False, lstrip=False, single_word=False, normalized=True), 'eos_token': AddedToken(\"<|endoftext|>\", rstrip=False, lstrip=False, single_word=False, normalized=True), 'unk_token': AddedToken(\"<|endoftext|>\", rstrip=False, lstrip=False, single_word=False, normalized=True), 'pad_token': '<|endoftext|>'})\n"
     ]
    }
   ],
   "source": [
    "print(tokenizer)\n"
   ]
  },
  {
   "cell_type": "code",
   "execution_count": 9,
   "metadata": {},
   "outputs": [
    {
     "name": "stdout",
     "output_type": "stream",
     "text": [
      "Model loaded successfully!\n"
     ]
    },
    {
     "data": {
      "text/plain": [
       "GPT2LMHeadModel(\n",
       "  (transformer): GPT2Model(\n",
       "    (wte): Embedding(50257, 768)\n",
       "    (wpe): Embedding(1024, 768)\n",
       "    (drop): Dropout(p=0.1, inplace=False)\n",
       "    (h): ModuleList(\n",
       "      (0-11): 12 x GPT2Block(\n",
       "        (ln_1): LayerNorm((768,), eps=1e-05, elementwise_affine=True)\n",
       "        (attn): GPT2Attention(\n",
       "          (c_attn): Conv1D()\n",
       "          (c_proj): Conv1D()\n",
       "          (attn_dropout): Dropout(p=0.1, inplace=False)\n",
       "          (resid_dropout): Dropout(p=0.1, inplace=False)\n",
       "        )\n",
       "        (ln_2): LayerNorm((768,), eps=1e-05, elementwise_affine=True)\n",
       "        (mlp): GPT2MLP(\n",
       "          (c_fc): Conv1D()\n",
       "          (c_proj): Conv1D()\n",
       "          (act): NewGELUActivation()\n",
       "          (dropout): Dropout(p=0.1, inplace=False)\n",
       "        )\n",
       "      )\n",
       "    )\n",
       "    (ln_f): LayerNorm((768,), eps=1e-05, elementwise_affine=True)\n",
       "  )\n",
       "  (lm_head): Linear(in_features=768, out_features=50257, bias=False)\n",
       ")"
      ]
     },
     "execution_count": 9,
     "metadata": {},
     "output_type": "execute_result"
    }
   ],
   "source": [
    "model = AutoModelForCausalLM.from_pretrained(model_path, local_files_only=True)\n",
    "print(\"Model loaded successfully!\")\n",
    "model.eval()\n"
   ]
  },
  {
   "cell_type": "code",
   "execution_count": null,
   "metadata": {},
   "outputs": [
    {
     "name": "stdout",
     "output_type": "stream",
     "text": [
      "\n",
      "Welcome to the Chatbot Decision System.\n",
      "Please choose a category:\n",
      "- shipping\n",
      "- invoice\n",
      "- cancellation\n",
      "- subscription\n",
      "- order_status\n",
      "- payment_issue\n",
      "- general_query\n",
      "- refund\n",
      "- technical_support\n",
      "- feedback\n",
      "\n",
      "\n",
      "Category: shipping\n",
      "Product Name: International Delivery\n",
      "Description: Global shipping with customs clearance\n",
      "\n",
      "Sample Conversation:\n",
      "User: do you offer free shipping\n",
      "Bot: standard shipping takes 57 days\n",
      "\n",
      "Type 'back' to return to the main menu, or type 'model' to ask a dynamic question.\n",
      "Dynamic Response: Category: shipping\n",
      "Product Name: International Delivery\n",
      "Description: Global shipping with customs clearance\n",
      "\n",
      "Sample Conversation:\n",
      "User: do you offer free shipping\n",
      "Bot: standard shipping takes 57 days\n",
      "\n",
      "Type 'back' to return to the main menu, or type'model' to ask a dynamic question.\n",
      "User: model\n",
      "Bot: you can request a refund from the order details page\n"
     ]
    }
   ],
   "source": [
    "import os\n",
    "import pandas as pd\n",
    "import torch\n",
    "from transformers import AutoTokenizer, AutoModelForCausalLM\n",
    "\n",
    "# =============================================================================\n",
    "# Decision Tree Node Class Definition\n",
    "# =============================================================================\n",
    "class DecisionTreeNode:\n",
    "    def __init__(self, prompt, action=None):\n",
    "        \"\"\"\n",
    "        Initialize a decision tree node.\n",
    "        \n",
    "        :param prompt: The prompt text to display at this node.\n",
    "        :param action: (Optional) A callable that generates a dynamic response.\n",
    "        \"\"\"\n",
    "        self.prompt = prompt\n",
    "        self.action = action  # Function to generate a dynamic response (optional)\n",
    "        self.children = {}    # Dictionary mapping decisions to child nodes\n",
    "\n",
    "    def add_child(self, decision, node):\n",
    "        \"\"\"Add a child node under the given decision.\"\"\"\n",
    "        self.children[decision.lower()] = node\n",
    "\n",
    "    def traverse(self):\n",
    "        \"\"\"\n",
    "        Recursively traverse the decision tree.\n",
    "        Displays the current prompt, invokes any action, and prompts the user for a decision.\n",
    "        \"\"\"\n",
    "        print(\"\\n\" + self.prompt)\n",
    "        if self.action:\n",
    "            response = self.action()\n",
    "            print(\"Dynamic Response:\", response)\n",
    "        if not self.children:\n",
    "            print(\"End of conversation.\")\n",
    "            return\n",
    "        decision = input(\"\\nEnter your decision: \").strip().lower()\n",
    "        if decision in self.children:\n",
    "            self.children[decision].traverse()\n",
    "        else:\n",
    "            print(\"Invalid decision. Exiting conversation.\")\n",
    "\n",
    "# =============================================================================\n",
    "# Model Response Generator Function\n",
    "# =============================================================================\n",
    "def model_response_generator(model, tokenizer, prompt):\n",
    "    \"\"\"\n",
    "    Generate a response from the fine-tuned model given a prompt.\n",
    "    \n",
    "    :param model: The fine-tuned conversational model.\n",
    "    :param tokenizer: The associated tokenizer.\n",
    "    :param prompt: The text prompt.\n",
    "    :return: The decoded response.\n",
    "    \"\"\"\n",
    "    device = torch.device(\"cuda\" if torch.cuda.is_available() else \"cpu\")\n",
    "    inputs = tokenizer.encode(prompt, return_tensors=\"pt\").to(device)\n",
    "    generated_ids = model.generate(\n",
    "        inputs,\n",
    "        max_new_tokens=64,\n",
    "        pad_token_id=tokenizer.eos_token_id  # using eos_token_id as pad token if needed\n",
    "    )\n",
    "    response = tokenizer.decode(generated_ids[0], skip_special_tokens=True)\n",
    "    return response\n",
    "\n",
    "# =============================================================================\n",
    "# Build Decision Tree from CSV\n",
    "# =============================================================================\n",
    "def build_decision_tree_from_csv(csv_path, tokenizer, model):\n",
    "    \"\"\"\n",
    "    Build a decision tree based on CSV data.\n",
    "    The CSV is expected to have columns: 'category', 'product_name', 'product_description', \n",
    "    'input_text', and 'output_text'.\n",
    "    \n",
    "    :param csv_path: Path to the CSV file.\n",
    "    :param tokenizer: The tokenizer.\n",
    "    :param model: The fine-tuned model.\n",
    "    :return: The root node of the decision tree.\n",
    "    \"\"\"\n",
    "    df = pd.read_csv(csv_path)\n",
    "    \n",
    "    # Extract unique categories.\n",
    "    categories = df[\"category\"].unique()\n",
    "    \n",
    "    # Build root prompt listing all available categories.\n",
    "    root_prompt = \"Welcome to the Chatbot Decision System.\\nPlease choose a category:\\n\"\n",
    "    for cat in categories:\n",
    "        root_prompt += f\"- {cat}\\n\"\n",
    "    root = DecisionTreeNode(root_prompt)\n",
    "    \n",
    "    # For each category, create a branch.\n",
    "    for cat in categories:\n",
    "        cat_df = df[df[\"category\"] == cat]\n",
    "        sample = cat_df.iloc[0]  # Use the first sample for demonstration.\n",
    "        product_name = sample[\"product_name\"]\n",
    "        product_desc = sample[\"product_description\"]\n",
    "        input_text = sample[\"input_text\"]\n",
    "        output_text = sample[\"output_text\"]\n",
    "        \n",
    "        branch_prompt = (\n",
    "            f\"Category: {cat}\\n\"\n",
    "            f\"Product Name: {product_name}\\n\"\n",
    "            f\"Description: {product_desc}\\n\\n\"\n",
    "            f\"Sample Conversation:\\n\"\n",
    "            f\"User: {input_text}\\n\"\n",
    "            f\"Bot: {output_text}\\n\\n\"\n",
    "            \"Type 'back' to return to the main menu, or type 'model' to ask a dynamic question.\"\n",
    "        )\n",
    "        \n",
    "        # Action that uses the model for a dynamic response.\n",
    "        def action_wrapper(prompt=branch_prompt):\n",
    "            user_query = input(\"You (for dynamic response): \")\n",
    "            dynamic_prompt = f\"{prompt}\\nUser: {user_query}\\nBot:\"\n",
    "            return model_response_generator(model, tokenizer, dynamic_prompt)\n",
    "        \n",
    "        branch_node = DecisionTreeNode(branch_prompt, action=action_wrapper)\n",
    "        branch_node.add_child(\"back\", root)\n",
    "        root.add_child(cat.lower(), branch_node)\n",
    "    \n",
    "    return root\n",
    "\n",
    "# =============================================================================\n",
    "# Main Execution: Load Model, Build Tree, and Traverse\n",
    "# =============================================================================\n",
    "\n",
    "# Set your model and CSV paths (use raw-string literals for Windows paths)\n",
    "model_path = r\"C:\\Users\\siddh\\Downloads\\Master Thesis\\Chatbot 2\\fine_tuned_model\"\n",
    "csv_path = r\"C:\\Users\\siddh\\Downloads\\Master Thesis\\Chatbot 2\\cleaned_dataset_for_finetuning.csv\"\n",
    "\n",
    "# Load the fine-tuned model and tokenizer from the specified path.\n",
    "tokenizer = AutoTokenizer.from_pretrained(model_path, local_files_only=True, use_fast=False)\n",
    "\n",
    "if tokenizer.pad_token is None:\n",
    "    tokenizer.pad_token = tokenizer.eos_token\n",
    "\n",
    "model = AutoModelForCausalLM.from_pretrained(model_path, local_files_only=True)\n",
    "model.eval()\n",
    "device = torch.device(\"cuda\" if torch.cuda.is_available() else \"cpu\")\n",
    "model.to(device)\n",
    "\n",
    "# Build the decision tree using your CSV.\n",
    "decision_tree = build_decision_tree_from_csv(csv_path, tokenizer, model)\n",
    "\n",
    "# Start the interactive decision tree traversal.\n",
    "decision_tree.traverse()\n"
   ]
  }
 ],
 "metadata": {
  "kernelspec": {
   "display_name": "Python 3",
   "language": "python",
   "name": "python3"
  },
  "language_info": {
   "codemirror_mode": {
    "name": "ipython",
    "version": 3
   },
   "file_extension": ".py",
   "mimetype": "text/x-python",
   "name": "python",
   "nbconvert_exporter": "python",
   "pygments_lexer": "ipython3",
   "version": "3.11.4"
  }
 },
 "nbformat": 4,
 "nbformat_minor": 2
}
